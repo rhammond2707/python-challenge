{
 "cells": [
  {
   "cell_type": "code",
   "execution_count": 30,
   "metadata": {},
   "outputs": [],
   "source": [
    "import os\n",
    "import csv\n",
    "election_data = \"week_03 Python_homework_PyPoll_Resources_election_data.csv\"\n",
    "with open(election_data) as csvfile:\n",
    "    csvreader = csv.reader(csvfile, delimiter= \",\")\n",
    "    #header = next(csvreader)\n",
    "    total_votes = 0\n",
    "    tally = {}\n",
    "    for row in csvreader:\n",
    "        total_votes +=1\n",
    "        name = row[2]\n",
    "        #if votes in row:\n",
    "            #tally.append(votes)\n",
    "            #x = votes.count(votes)\n",
    "        #if name not in candidates:\n",
    "           #candidates.append(name)\n",
    "        if name not in tally:\n",
    "            tally[name] = 1\n",
    "        else:    \n",
    "            tally[name] = 1 + tally[name]\n"
   ]
  },
  {
   "cell_type": "code",
   "execution_count": 35,
   "metadata": {},
   "outputs": [
    {
     "name": "stdout",
     "output_type": "stream",
     "text": [
      "Election Results\n",
      "-------------------\n",
      "Total Votes Cast: 3521002\n",
      "-------------------\n",
      "Candidate:1 0.0%\n",
      "Khan:2218231 63.0%\n",
      "Correy:704200 20.0%\n",
      "Li:492940 14.0%\n",
      "O'Tooley:105630 3.0%\n",
      "-----------------\n",
      "-----------------\n",
      "Winner: ['Khan']\n"
     ]
    }
   ],
   "source": [
    "\n",
    "print(\"Election Results\")\n",
    "print(\"-------------------\")\n",
    "print(\"Total Votes Cast:\", total_votes)\n",
    "print(\"-------------------\")\n",
    "for name in tally:\n",
    "    print(f'{name}:{tally[name]} {tally[name]/total_votes:.1%}')\n",
    "print(\"-----------------\")\n",
    "#print(tally)\n",
    "votes = max(tally.values())\n",
    "vote_key = [k for k, v in tally.items() if v == votes]\n",
    "#print(votes)\n",
    "#tally.get(max(tally.values(), key=tally.get))\n",
    "#print(names, votes)\n",
    "print(\"-----------------\")\n",
    "print(\"Winner:\", vote_key)\n"
   ]
  },
  {
   "cell_type": "code",
   "execution_count": 29,
   "metadata": {},
   "outputs": [],
   "source": [
    "outputfile = os.path.join(\"..\", \"downloads\", \"electionfile.csv\")\n",
    "with open (outputfile, 'w', newline='') as datafile:\n",
    "    writer = csv.writer(datafile)"
   ]
  },
  {
   "cell_type": "code",
   "execution_count": null,
   "metadata": {},
   "outputs": [],
   "source": []
  }
 ],
 "metadata": {
  "kernelspec": {
   "display_name": "Python 3",
   "language": "python",
   "name": "python3"
  },
  "language_info": {
   "codemirror_mode": {
    "name": "ipython",
    "version": 3
   },
   "file_extension": ".py",
   "mimetype": "text/x-python",
   "name": "python",
   "nbconvert_exporter": "python",
   "pygments_lexer": "ipython3",
   "version": "3.8.5"
  }
 },
 "nbformat": 4,
 "nbformat_minor": 4
}
